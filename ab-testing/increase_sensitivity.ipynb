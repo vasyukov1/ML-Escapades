{
 "cells": [
  {
   "cell_type": "markdown",
   "metadata": {},
   "source": [
    "# Ускорение тестирования"
   ]
  },
  {
   "cell_type": "markdown",
   "metadata": {},
   "source": [
    "### Импорт библиотек"
   ]
  },
  {
   "cell_type": "code",
   "execution_count": 1,
   "metadata": {},
   "outputs": [],
   "source": [
    "import numpy as np\n",
    "import pandas as pd\n",
    "import scipy.stats as stats\n",
    "import tqdm\n",
    "\n",
    "import matplotlib.pyplot as plt\n",
    "import seaborn as sns\n",
    "sns.set_theme()"
   ]
  },
  {
   "cell_type": "markdown",
   "metadata": {},
   "source": [
    "### Импорт данных"
   ]
  },
  {
   "cell_type": "code",
   "execution_count": null,
   "metadata": {},
   "outputs": [
    {
     "name": "stdout",
     "output_type": "stream",
     "text": [
      "Размеры датасета (50000, 2)\n"
     ]
    },
    {
     "data": {
      "text/html": [
       "<div>\n",
       "<style scoped>\n",
       "    .dataframe tbody tr th:only-of-type {\n",
       "        vertical-align: middle;\n",
       "    }\n",
       "\n",
       "    .dataframe tbody tr th {\n",
       "        vertical-align: top;\n",
       "    }\n",
       "\n",
       "    .dataframe thead th {\n",
       "        text-align: right;\n",
       "    }\n",
       "</style>\n",
       "<table border=\"1\" class=\"dataframe\">\n",
       "  <thead>\n",
       "    <tr style=\"text-align: right;\">\n",
       "      <th></th>\n",
       "      <th>group</th>\n",
       "      <th>metrica</th>\n",
       "    </tr>\n",
       "    <tr>\n",
       "      <th>strata</th>\n",
       "      <th></th>\n",
       "      <th></th>\n",
       "    </tr>\n",
       "  </thead>\n",
       "  <tbody>\n",
       "    <tr>\n",
       "      <th>11</th>\n",
       "      <td>history</td>\n",
       "      <td>42.631346</td>\n",
       "    </tr>\n",
       "    <tr>\n",
       "      <th>6</th>\n",
       "      <td>history</td>\n",
       "      <td>14.844453</td>\n",
       "    </tr>\n",
       "    <tr>\n",
       "      <th>4</th>\n",
       "      <td>history</td>\n",
       "      <td>2.362768</td>\n",
       "    </tr>\n",
       "    <tr>\n",
       "      <th>37</th>\n",
       "      <td>history</td>\n",
       "      <td>79.494017</td>\n",
       "    </tr>\n",
       "    <tr>\n",
       "      <th>18</th>\n",
       "      <td>history</td>\n",
       "      <td>-22.627788</td>\n",
       "    </tr>\n",
       "    <tr>\n",
       "      <th>34</th>\n",
       "      <td>history</td>\n",
       "      <td>28.679378</td>\n",
       "    </tr>\n",
       "  </tbody>\n",
       "</table>\n",
       "</div>"
      ],
      "text/plain": [
       "          group    metrica\n",
       "strata                    \n",
       "11      history  42.631346\n",
       "6       history  14.844453\n",
       "4       history   2.362768\n",
       "37      history  79.494017\n",
       "18      history -22.627788\n",
       "34      history  28.679378"
      ]
     },
     "execution_count": 2,
     "metadata": {},
     "output_type": "execute_result"
    }
   ],
   "source": [
    "data_path = \"ab_speedup.csv\"\n",
    "data = pd.read_csv(data_path, index_col=0)\n",
    "print(\"Размеры датасета\", data.shape)\n",
    "data.head(6)"
   ]
  },
  {
   "cell_type": "code",
   "execution_count": 3,
   "metadata": {},
   "outputs": [
    {
     "data": {
      "text/plain": [
       "group\n",
       "B          21430\n",
       "A          21427\n",
       "history     7143\n",
       "Name: count, dtype: int64"
      ]
     },
     "execution_count": 3,
     "metadata": {},
     "output_type": "execute_result"
    }
   ],
   "source": [
    "data['group'].value_counts()"
   ]
  },
  {
   "cell_type": "markdown",
   "metadata": {},
   "source": [
    "<div class=\"alert alert-info\">\n",
    "<b>Про Датасет</b>\n",
    "    \n",
    "Датасет представляет собой результаты некоторого А/B-Теста. \n",
    "\n",
    "* `strata` - Некоторая информация по страту (группа), к которой относится пользователь. \n",
    "* `group` - Группа эксперимента - тестовая, контрольная или прошлая история. \n",
    "* `metrica` - Целивая метрика\n",
    "    \n",
    "</div>"
   ]
  },
  {
   "cell_type": "code",
   "execution_count": 4,
   "metadata": {},
   "outputs": [],
   "source": [
    "history_data = data[data['group'] == 'history']\n",
    "current_data = data[data['group'].isin(['A', 'B'])]\n",
    "\n",
    "control = current_data[current_data['group'] == 'A']['metrica']\n",
    "test = current_data[current_data['group'] == 'B']['metrica']"
   ]
  },
  {
   "cell_type": "markdown",
   "metadata": {},
   "source": [
    "<div class=\"alert alert-info\">\n",
    "\n",
    "<b>Задание:</b>    \n",
    "    \n",
    "Найти различие между группами, увеличив чувствительность тестов тремя способами поочередно:\n",
    "* Бутстрап\n",
    "* Стратификация\n",
    "* CUPED\n",
    "    \n",
    "Вспомогательная статья Валерия Бабушкина про стратификацию и CUPED:\n",
    "\n",
    "* habr.com/ru/company/yandex/blog/497804/"
   ]
  },
  {
   "cell_type": "code",
   "execution_count": 5,
   "metadata": {},
   "outputs": [],
   "source": [
    "def t_test(control, test):\n",
    "    t_stat, p_value = stats.ttest_ind(test, control, equal_var=False)\n",
    "    return t_stat, p_value"
   ]
  },
  {
   "cell_type": "code",
   "execution_count": 6,
   "metadata": {},
   "outputs": [],
   "source": [
    "def bootstrap_test(control, test, n_bootstrap=5000, alpha=0.05, seed=42):\n",
    "    np.random.seed(seed)\n",
    "\n",
    "    diffs = []\n",
    "    for _ in tqdm.tqdm(range(n_bootstrap), desc='Bootstrap'):\n",
    "        new_control = np.random.choice(control, size=len(control), replace=True)\n",
    "        new_test = np.random.choice(test, size=len(test), replace=True)\n",
    "        diff = new_test.mean() - new_control.mean()\n",
    "        diffs.append(diff)\n",
    "\n",
    "    diffs = np.array(diffs)\n",
    "\n",
    "    p_value = 2 * min(np.mean(diffs < 0), np.mean(diffs > 0))\n",
    "    ci = np.percentile(diffs, [100 * alpha / 2, 100 * (1 - alpha / 2)])\n",
    "    original_diff = test.mean() - control.mean()\n",
    "    \n",
    "    return p_value, ci, original_diff"
   ]
  },
  {
   "cell_type": "code",
   "execution_count": 7,
   "metadata": {},
   "outputs": [],
   "source": [
    "def stratified_test(data, n_bootstrap=5000, alpha=0.05, seed=42):\n",
    "    np.random.seed(seed)\n",
    "\n",
    "    strata_list = data.index.unique()\n",
    "    diffs = []\n",
    "    \n",
    "    for _ in tqdm.tqdm(range(n_bootstrap), desc='Stratified Bootstrap'):\n",
    "        control_samples = []\n",
    "        test_samples = []\n",
    "\n",
    "        for stratum in strata_list:\n",
    "            stratum_data = data.loc[stratum]\n",
    "\n",
    "            control = stratum_data[stratum_data['group'] == 'A']['metrica']\n",
    "            test = stratum_data[stratum_data['group'] == 'B']['metrica']\n",
    "\n",
    "            new_control = np.random.choice(control, size=len(control), replace=True)\n",
    "            new_test = np.random.choice(test, size=len(test), replace=True)\n",
    "            control_samples.append(new_control)\n",
    "            test_samples.append(new_test)\n",
    "        \n",
    "        full_control = np.concatenate(control_samples)\n",
    "        full_test = np.concatenate(test_samples)\n",
    "        diff = full_test.mean() - full_control.mean()\n",
    "        diffs.append(diff)\n",
    "\n",
    "    diffs = np.array(diffs)\n",
    "\n",
    "    p_value = 2 * min(np.mean(diffs < 0), np.mean(diffs > 0))\n",
    "    ci = np.percentile(diffs, [100 * alpha / 2, 100 * (1 - alpha / 2)])\n",
    "    diff = diffs.mean()\n",
    "\n",
    "    return p_value, ci, diff"
   ]
  },
  {
   "cell_type": "code",
   "execution_count": 8,
   "metadata": {},
   "outputs": [],
   "source": [
    "def cuped_test(current_data, history_data, n_bootstrap=5000, alpha=0.05, seed=42):\n",
    "    np.random.seed(seed)\n",
    "\n",
    "    history_means = history_data.groupby(history_data.index)['metrica'].mean()\n",
    "    \n",
    "    current = current_data.copy()\n",
    "    current['covariate'] = current.index.map(history_means)\n",
    "    current.dropna(subset=['covariate'], inplace=True)\n",
    "\n",
    "    strata_list = current.index.unique()\n",
    "    adjusted_pieces = []\n",
    "    \n",
    "    for stratum in strata_list:\n",
    "        stratum_data = current.loc[[stratum]]\n",
    "        Y = stratum_data['metrica'].values\n",
    "        X = stratum_data['covariate'].values\n",
    "\n",
    "        if len(X) < 2 or np.var(X, ddof=1) == 0:\n",
    "            stratum_data['metrica_cuped'] = Y\n",
    "        else:\n",
    "            theta = np.cov(Y, X, ddof=1)[0,1] / np.var(X, ddof=1)\n",
    "            stratum_data['metrica_cuped'] = Y - theta * (X - X.mean())\n",
    "\n",
    "        adjusted_pieces.append(stratum_data[['group', 'metrica_cuped']])\n",
    "\n",
    "    adjusted_data = pd.concat(adjusted_pieces)\n",
    "\n",
    "    diffs = []\n",
    "    for _ in tqdm.tqdm(range(n_bootstrap), desc='CUPED Bootstrap'):\n",
    "        control_samples = []\n",
    "        test_samples = []\n",
    "\n",
    "        for stratum in strata_list:\n",
    "            stratum_data = adjusted_data.loc[stratum]\n",
    "\n",
    "            control = stratum_data[stratum_data['group'] == 'A']['metrica_cuped']\n",
    "            test = stratum_data[stratum_data['group'] == 'B']['metrica_cuped']\n",
    "\n",
    "            new_control = np.random.choice(control, size=len(control), replace=True)\n",
    "            new_test = np.random.choice(test, size=len(test), replace=True)\n",
    "\n",
    "            control_samples.append(new_control)\n",
    "            test_samples.append(new_test)\n",
    "\n",
    "        full_control = np.concatenate(control_samples)\n",
    "        full_test = np.concatenate(test_samples)\n",
    "        diff = full_test.mean() - full_control.mean()\n",
    "        diffs.append(diff)\n",
    "\n",
    "    diffs = np.array(diffs)\n",
    "    \n",
    "    p_value = 2 * min(np.mean(diffs < 0), np.mean(diffs > 0))\n",
    "    ci = np.percentile(diffs, [100 * alpha / 2, 100 * (1 - alpha / 2)])\n",
    "\n",
    "    test_mean = adjusted_data[adjusted_data['group'] == 'B']['metrica_cuped'].mean()\n",
    "    control_mean = adjusted_data[adjusted_data['group'] == 'A']['metrica_cuped'].mean()\n",
    "    diff_cuped = test_mean - control_mean\n",
    "    \n",
    "    return p_value, ci, diff_cuped\n"
   ]
  },
  {
   "cell_type": "code",
   "execution_count": 9,
   "metadata": {},
   "outputs": [
    {
     "name": "stdout",
     "output_type": "stream",
     "text": [
      "T-test Result:\n",
      "\tt-statistic: -2.4980\n",
      "\tp-value: 0.0125\n",
      "\n"
     ]
    },
    {
     "name": "stderr",
     "output_type": "stream",
     "text": [
      "Bootstrap: 100%|██████████| 5000/5000 [00:02<00:00, 2017.69it/s]\n"
     ]
    },
    {
     "name": "stdout",
     "output_type": "stream",
     "text": [
      "Bootstrap Results:\n",
      "\tDifference in means: -0.8273\n",
      "\t95% Confidence Interval: [-1.5053, -0.1688]\n",
      "\tp-value: 0.0104\n",
      "\n"
     ]
    },
    {
     "name": "stderr",
     "output_type": "stream",
     "text": [
      "Stratified Bootstrap: 100%|██████████| 5000/5000 [01:26<00:00, 57.73it/s]\n"
     ]
    },
    {
     "name": "stdout",
     "output_type": "stream",
     "text": [
      "Stratification Results:\n",
      "\tDifference in means: -0.8246\n",
      "\t95% Confidence Interval: [-1.4214, -0.2219]\n",
      "\tp-value: 0.0056\n",
      "\n"
     ]
    },
    {
     "name": "stderr",
     "output_type": "stream",
     "text": [
      "CUPED Bootstrap: 100%|██████████| 5000/5000 [01:16<00:00, 65.03it/s]"
     ]
    },
    {
     "name": "stdout",
     "output_type": "stream",
     "text": [
      "CUPED Results:\n",
      "\tDifference in means: -0.8273\n",
      "\t95% Confidence Interval: [-1.4243, -0.2295]\n",
      "\tp-value: 0.0052\n",
      "\n"
     ]
    },
    {
     "name": "stderr",
     "output_type": "stream",
     "text": [
      "\n"
     ]
    }
   ],
   "source": [
    "results = {}\n",
    "\n",
    "# T-test\n",
    "t_stat, t_p_value = t_test(control, test)\n",
    "results['t-test'] = t_p_value\n",
    "\n",
    "print(f\"T-test Result:\")\n",
    "print(f\"\\tt-statistic: {t_stat:.4f}\")\n",
    "print(f\"\\tp-value: {t_p_value:.4f}\\n\")\n",
    "\n",
    "# Bootstrap\n",
    "p_value_bootstrap, ci_bootstrap, diff_bootstrap = bootstrap_test(control, test)\n",
    "results['bootstrap'] = p_value_bootstrap\n",
    "\n",
    "print(f\"Bootstrap Results:\")\n",
    "print(f\"\\tDifference in means: {diff_bootstrap:.4f}\")\n",
    "print(f\"\\t95% Confidence Interval: [{ci_bootstrap[0]:.4f}, {ci_bootstrap[1]:.4f}]\")\n",
    "print(f\"\\tp-value: {p_value_bootstrap:.4f}\\n\")\n",
    "\n",
    "# Stratification\n",
    "p_value_strat, ci_strat, diff_strat = stratified_test(data)\n",
    "results['stratification'] = p_value_strat\n",
    "\n",
    "print(f\"Stratification Results:\")\n",
    "print(f\"\\tDifference in means: {diff_strat:.4f}\")\n",
    "print(f\"\\t95% Confidence Interval: [{ci_strat[0]:.4f}, {ci_strat[1]:.4f}]\")\n",
    "print(f\"\\tp-value: {p_value_strat:.4f}\\n\")\n",
    "\n",
    "# CUPED\n",
    "p_value_cuped, ci_cuped, diff_cuped = cuped_test(current_data, history_data)\n",
    "results['CUPED'] = p_value_cuped\n",
    "\n",
    "print(f\"CUPED Results:\")\n",
    "print(f\"\\tDifference in means: {diff_cuped:.4f}\")\n",
    "print(f\"\\t95% Confidence Interval: [{ci_cuped[0]:.4f}, {ci_cuped[1]:.4f}]\")\n",
    "print(f\"\\tp-value: {p_value_cuped:.4f}\\n\")"
   ]
  },
  {
   "cell_type": "code",
   "execution_count": 10,
   "metadata": {},
   "outputs": [
    {
     "data": {
      "image/png": "[encoded data removed]",
      "text/plain": [
       "<Figure size 1200x600 with 1 Axes>"
      ]
     },
     "metadata": {},
     "output_type": "display_data"
    }
   ],
   "source": [
    "# Visualization\n",
    "plt.figure(figsize=(12, 6))\n",
    "methods = list(results.keys())\n",
    "p_values = list(results.values())\n",
    "colors = ['green' if p_value < 0.05 else 'red' for p_value in p_values]\n",
    "\n",
    "plt.bar(methods, p_values, width=0.5, color=colors)\n",
    "plt.axhline(0.05, color='blue', linestyle='--', label='Уровень значимости 0.05')\n",
    "plt.ylabel('p-value')\n",
    "plt.title('Сравнение чувствительности методов A/B-теста')\n",
    "plt.legend()\n",
    "plt.grid(axis='y', linestyle='--', alpha=0.7)\n",
    "plt.tight_layout()\n",
    "plt.show()"
   ]
  },
  {
   "cell_type": "code",
   "execution_count": 11,
   "metadata": {},
   "outputs": [
    {
     "data": {
      "image/png": "[encoded data removed]",
      "text/plain": [
       "<Figure size 1200x600 with 1 Axes>"
      ]
     },
     "metadata": {},
     "output_type": "display_data"
    }
   ],
   "source": [
    "# Visualization\n",
    "plt.figure(figsize=(12, 6))\n",
    "methods = list(results.keys())\n",
    "p_values = list(results.values())\n",
    "colors = ['green' if p_value < 0.05 else 'red' for p_value in p_values]\n",
    "\n",
    "plt.bar(methods, -np.log10(p_values), width=0.5, color=colors)\n",
    "plt.axhline(-np.log10(0.05), color='blue', linestyle='--', label='Уровень значимости 0.05')\n",
    "plt.ylabel('-log10(p-value)')\n",
    "plt.title('Сравнение чувствительности методов A/B-теста')\n",
    "plt.legend()\n",
    "plt.grid(axis='y', linestyle='--', alpha=0.7)\n",
    "plt.tight_layout()\n",
    "plt.show()"
   ]
  },
  {
   "cell_type": "markdown",
   "metadata": {},
   "source": [
    "## Анализ результатов\n",
    "\n",
    "### 1. **T-test**\n",
    "\n",
    "**Результат:**\n",
    "* t-статистика: -2.4980\n",
    "* p-value: **0.0125**\n",
    "\n",
    "**Пояснение:**\n",
    "Обычный независимый t-критерий показал наличие статистически значимого различия между контрольной и тестовой группами на уровне значимости 0.05. Но p-value достаточно близок к границе, что указывает на умеренную чувствительность метода. Этот результат может быть нестабилен при изменении распределения данных.\n",
    "\n",
    "---\n",
    "\n",
    "### 2. **Bootstrap**\n",
    "\n",
    "**Результат:**\n",
    "* Разница средних: -0.8273\n",
    "* 95% доверительный интервал: [-1.5053, -0.1688]\n",
    "* p-value: **0.0104**\n",
    "\n",
    "**Пояснение:**\n",
    "Бутстрап позволяет оценивать доверительный интервал и p-value без предположений о нормальности выборки. Он подтверждает статистическую значимость, и даёт наглядный доверительный интервал для эффекта. При этом результат согласуется с t-тестом по направлению и значимости, но чуть более чувствителен, потому что p-value ниже.\n",
    "\n",
    "---\n",
    "\n",
    "### 3. **Stratification**\n",
    "\n",
    "**Результат:**\n",
    "* Разница средних: -0.8246\n",
    "* 95% доверительный интервал: [-1.4214, -0.2219]\n",
    "* p-value: **0.0056**\n",
    "\n",
    "**Пояснение:**\n",
    "Стратификация уменьшает дисперсию внутри групп. Она улучшает чувствительность критерия - p-value сильно снизился. Для более точного результата использовался бутстрап, что в совокупности дало более чувствительный результат.\n",
    "\n",
    "---\n",
    "\n",
    "### 4. **CUPED**\n",
    "\n",
    "**Результат:**\n",
    "* Разница средних: -0.8273\n",
    "* 95% доверительный интервал: [-1.4243, -0.2295]\n",
    "* p-value: **0.0052**\n",
    "\n",
    "**Пояснение:**\n",
    "Метод CUPED учитывает ковариаты, известные до эксперимента, и корректирует метрику, уменьшая дисперсию. Это приводит к максимальному снижению p-value, то есть к наибольшей чувствительности. Для получения ещё более точного анализа использовалась стратификация с бутстрапом, что в итоге привело к выводу, что результат согласуется по знаку и величине с методом бутстрапа и стратификации и достигает статистической значимости немного увереннее, чем остальные методы.\n",
    "\n",
    "---\n",
    "\n",
    "## Общий вывод:\n",
    "\n",
    "| Метод          | p-value | Преимущество                        | Комментарий                           |\n",
    "| -------------- | ------- | ----------------------------------- | ------------------------------------- |\n",
    "| T-test         | 0.0125  | Простота, быстрая проверка гипотезы | Менее чувствителен                    |\n",
    "| Bootstrap      | 0.0104  | Не требует нормальности             | Лучше, чем T-test                     |\n",
    "| Stratification | 0.0056  | Учет неоднородности по стратам      | Значительно повышает чувствительность |\n",
    "| CUPED          | 0.0052  | Учет ковариаты снижает дисперсию    | Самый чувствительный метод            |\n",
    "\n",
    "* Все три метода значительно улучшают чувствительность по сравнению с классическим t-тестом.\n",
    "* Все методы повышают чувствительность, различия — лишь в степени уверенности (p-value) и ширине доверительных интервалов.\n",
    "* Все методы снижают дисперсию, но делают это немного по-разному: бутстрап устраняет зависимость от конкретной выборки, стратификация контролирует вариации внутри каждой страты, CUPED устраняет шум через ковариаты.\n",
    "* Стратификация требует возможности значимого фактора для разбиения по стратам, CUPED требует знания исторических данных.\n"
   ]
  }
 ],
 "metadata": {
  "kernelspec": {
   "display_name": "Python 3",
   "language": "python",
   "name": "python3"
  },
  "language_info": {
   "codemirror_mode": {
    "name": "ipython",
    "version": 3
   },
   "file_extension": ".py",
   "mimetype": "text/x-python",
   "name": "python",
   "nbconvert_exporter": "python",
   "pygments_lexer": "ipython3",
   "version": "3.12.5"
  },
  "toc": {
   "base_numbering": 1,
   "nav_menu": {},
   "number_sections": true,
   "sideBar": true,
   "skip_h1_title": false,
   "title_cell": "Table of Contents",
   "title_sidebar": "Contents",
   "toc_cell": false,
   "toc_position": {},
   "toc_section_display": true,
   "toc_window_display": false
  }
 },
 "nbformat": 4,
 "nbformat_minor": 4
}
